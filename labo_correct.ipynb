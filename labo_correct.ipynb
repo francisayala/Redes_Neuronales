{
  "cells": [
    {
      "cell_type": "markdown",
      "metadata": {
        "id": "view-in-github",
        "colab_type": "text"
      },
      "source": [
        "<a href=\"https://colab.research.google.com/github/francisayala/Redes_Neuronales/blob/main/labo_correct.ipynb\" target=\"_parent\"><img src=\"https://colab.research.google.com/assets/colab-badge.svg\" alt=\"Open In Colab\"/></a>"
      ]
    },
    {
      "cell_type": "code",
      "execution_count": null,
      "metadata": {
        "id": "Sa5KxXdiwyAX"
      },
      "outputs": [],
      "source": [
        "import tensorflow as tf\n",
        "from tensorflow import keras\n",
        "from tensorflow.keras import layers\n",
        "import numpy as np\n",
        "import matplotlib.pyplot as plt\n"
      ]
    },
    {
      "cell_type": "code",
      "execution_count": null,
      "metadata": {
        "id": "u0x85G0hxPfM"
      },
      "outputs": [],
      "source": [
        "(train_X, train_Y), (test_X, test_Y) = keras.datasets.fashion_mnist.load_data()"
      ]
    },
    {
      "cell_type": "code",
      "execution_count": null,
      "metadata": {
        "colab": {
          "base_uri": "https://localhost:8080/"
        },
        "id": "i7JRFjsZxWVx",
        "outputId": "168b4bc5-13c3-4932-e3e5-3d3653676754"
      },
      "outputs": [
        {
          "output_type": "stream",
          "name": "stdout",
          "text": [
            "Data in Train X, Y:  (60000, 28, 28) (60000,)\n",
            "Data in Test X, Y:  (10000, 28, 28) (10000,)\n"
          ]
        }
      ],
      "source": [
        "print('Data in Train X, Y: ', train_X.shape , train_Y.shape)\n",
        "print(\"Data in Test X, Y: \", test_X.shape, test_Y.shape)"
      ]
    },
    {
      "cell_type": "code",
      "execution_count": null,
      "metadata": {
        "colab": {
          "base_uri": "https://localhost:8080/"
        },
        "id": "ArDzu0O-yG-N",
        "outputId": "77e7761d-32eb-4f58-f97c-fb31ee771239"
      },
      "outputs": [
        {
          "output_type": "stream",
          "name": "stdout",
          "text": [
            "Total number outputs:  10\n",
            "Output classes:  [0 1 2 3 4 5 6 7 8 9]\n"
          ]
        }
      ],
      "source": [
        "# Encuentra los valores unicos de la lista de entenamiento\n",
        "classes = np.unique(train_Y)\n",
        "nClasses = len(classes)\n",
        "print(\"Total number outputs: \", nClasses)\n",
        "print(\"Output classes: \", classes)"
      ]
    },
    {
      "cell_type": "code",
      "execution_count": null,
      "metadata": {
        "colab": {
          "base_uri": "https://localhost:8080/",
          "height": 276
        },
        "id": "txofQYH-yXuT",
        "outputId": "87aa48af-dc0e-44c5-9d1f-2157c34ba752"
      },
      "outputs": [
        {
          "output_type": "execute_result",
          "data": {
            "text/plain": [
              "Text(0.5, 1.0, 'Ground Truth : 9')"
            ]
          },
          "metadata": {},
          "execution_count": 89
        },
        {
          "output_type": "display_data",
          "data": {
            "text/plain": [
              "<Figure size 500x500 with 2 Axes>"
            ],
            "image/png": "[encoded data removed]"
          },
          "metadata": {}
        }
      ],
      "source": [
        "plt.figure(figsize=[5,5])\n",
        "\n",
        "# Display the first image in training data\n",
        "plt.subplot(121)\n",
        "plt.imshow(train_X[0,:,:], cmap='gray')\n",
        "plt.title(\"Ground Truth : {}\".format(train_Y[0]))\n",
        "\n",
        "# Display the first image in testing data\n",
        "plt.subplot(122)\n",
        "plt.imshow(test_X[0,:,:], cmap='gray')\n",
        "plt.title(\"Ground Truth : {}\".format(test_Y[0]))"
      ]
    },
    {
      "cell_type": "markdown",
      "metadata": {
        "id": "0yQixEI-xlLY"
      },
      "source": [
        "Normalizacion"
      ]
    },
    {
      "cell_type": "code",
      "execution_count": null,
      "metadata": {
        "id": "dpEkDjRQxiKO"
      },
      "outputs": [],
      "source": [
        "train_X = train_X.astype(\"float32\") / 255\n",
        "test_X = test_X.astype(\"float32\") / 255"
      ]
    },
    {
      "cell_type": "markdown",
      "metadata": {
        "id": "MH8q9hn9y4HI"
      },
      "source": [
        "Convertir la img en una linea"
      ]
    },
    {
      "cell_type": "code",
      "execution_count": null,
      "metadata": {
        "colab": {
          "base_uri": "https://localhost:8080/"
        },
        "id": "YPiD0GCDyi2p",
        "outputId": "d0240e15-30c0-41f6-994f-c8cb2c7211e5"
      },
      "outputs": [
        {
          "output_type": "execute_result",
          "data": {
            "text/plain": [
              "(60000, 784)"
            ]
          },
          "metadata": {},
          "execution_count": 91
        }
      ],
      "source": [
        "train_X = train_X.reshape(train_X.shape[0], train_X.shape[1] * train_X.shape[2])\n",
        "train_X.shape"
      ]
    },
    {
      "cell_type": "code",
      "execution_count": null,
      "metadata": {
        "colab": {
          "base_uri": "https://localhost:8080/"
        },
        "id": "EId9l9yjzshm",
        "outputId": "805c0de2-f356-4afd-c6bb-f18cb228f743"
      },
      "outputs": [
        {
          "output_type": "execute_result",
          "data": {
            "text/plain": [
              "(60000, 784)"
            ]
          },
          "metadata": {},
          "execution_count": 92
        }
      ],
      "source": [
        "test_X = test_X.reshape(test_X.shape[0], test_X.shape[1] * test_X.shape[2])\n",
        "train_X.shape"
      ]
    },
    {
      "cell_type": "code",
      "execution_count": null,
      "metadata": {
        "colab": {
          "base_uri": "https://localhost:8080/"
        },
        "id": "S_s2StiV0m4B",
        "outputId": "66c58aab-cc13-4536-ab85-3c32c46ebda8"
      },
      "outputs": [
        {
          "output_type": "execute_result",
          "data": {
            "text/plain": [
              "array([9, 0, 0, ..., 3, 0, 5], dtype=uint8)"
            ]
          },
          "metadata": {},
          "execution_count": 93
        }
      ],
      "source": [
        "train_Y"
      ]
    },
    {
      "cell_type": "markdown",
      "metadata": {
        "id": "F2S9X07B1Frc"
      },
      "source": [
        "El dtype uint8  es un entero sin firma que solo puede tener un valor positivo entre 0 y 255"
      ]
    },
    {
      "cell_type": "markdown",
      "metadata": {
        "id": "dzNrQr5U03K2"
      },
      "source": [
        "Convierte clases a codificación one-hot usando keras.utils.to_categorical"
      ]
    },
    {
      "cell_type": "code",
      "execution_count": null,
      "metadata": {
        "colab": {
          "base_uri": "https://localhost:8080/"
        },
        "id": "ZDFeR3rg1vyW",
        "outputId": "f14d2e8f-4e79-46a2-94d6-a03a552d9f63"
      },
      "outputs": [
        {
          "output_type": "execute_result",
          "data": {
            "text/plain": [
              "array([[0., 0., 0., ..., 0., 0., 1.],\n",
              "       [1., 0., 0., ..., 0., 0., 0.],\n",
              "       [1., 0., 0., ..., 0., 0., 0.],\n",
              "       ...,\n",
              "       [0., 0., 0., ..., 0., 0., 0.],\n",
              "       [1., 0., 0., ..., 0., 0., 0.],\n",
              "       [0., 0., 0., ..., 0., 0., 0.]])"
            ]
          },
          "metadata": {},
          "execution_count": 94
        }
      ],
      "source": [
        "num_classes = 10\n",
        "train_Y = keras.utils.to_categorical(train_Y, num_classes) #una forma de convertir las etiquetas de clases en un formato \"one-hot\"\n",
        "train_Y"
      ]
    },
    {
      "cell_type": "code",
      "execution_count": null,
      "metadata": {
        "colab": {
          "base_uri": "https://localhost:8080/"
        },
        "id": "tyXbN5mG00o4",
        "outputId": "5d1e3f4c-3a2f-4b82-fa9b-886dbb469175"
      },
      "outputs": [
        {
          "output_type": "execute_result",
          "data": {
            "text/plain": [
              "(60000, 10)"
            ]
          },
          "metadata": {},
          "execution_count": 95
        }
      ],
      "source": [
        "train_Y.shape"
      ]
    },
    {
      "cell_type": "markdown",
      "source": [
        "el primer valor equivale al numero de filas , el segundo valor al ser 10 equivale al numero de columnas pero ademas hace notar que esta representando el formato one-hot"
      ],
      "metadata": {
        "id": "3LWl2SWS4_al"
      }
    },
    {
      "cell_type": "code",
      "source": [
        "test_Y = keras.utils.to_categorical(test_Y, num_classes)\n",
        "test_Y"
      ],
      "metadata": {
        "colab": {
          "base_uri": "https://localhost:8080/"
        },
        "id": "ISAnkZr-RfKI",
        "outputId": "df2f3a10-0264-45f3-b684-e9d8e90063f7"
      },
      "execution_count": null,
      "outputs": [
        {
          "output_type": "execute_result",
          "data": {
            "text/plain": [
              "array([[0., 0., 0., ..., 0., 0., 1.],\n",
              "       [0., 0., 1., ..., 0., 0., 0.],\n",
              "       [0., 1., 0., ..., 0., 0., 0.],\n",
              "       ...,\n",
              "       [0., 0., 0., ..., 0., 1., 0.],\n",
              "       [0., 1., 0., ..., 0., 0., 0.],\n",
              "       [0., 0., 0., ..., 0., 0., 0.]])"
            ]
          },
          "metadata": {},
          "execution_count": 96
        }
      ]
    },
    {
      "cell_type": "code",
      "execution_count": null,
      "metadata": {
        "colab": {
          "base_uri": "https://localhost:8080/"
        },
        "id": "1xgACg0F28T9",
        "outputId": "1183a94a-9d9f-4565-8e27-24f4f859c20e"
      },
      "outputs": [
        {
          "output_type": "execute_result",
          "data": {
            "text/plain": [
              "array([0.        , 0.        , 0.        , 0.        , 0.        ,\n",
              "       0.        , 0.        , 0.        , 0.        , 0.        ,\n",
              "       0.        , 0.        , 0.        , 0.        , 0.        ,\n",
              "       0.        , 0.        , 0.        , 0.        , 0.        ,\n",
              "       0.        , 0.        , 0.        , 0.        , 0.        ,\n",
              "       0.        , 0.        , 0.        , 0.        , 0.        ,\n",
              "       0.        , 0.        , 0.        , 0.        , 0.        ,\n",
              "       0.        , 0.        , 0.        , 0.        , 0.        ,\n",
              "       0.        , 0.        , 0.        , 0.        , 0.        ,\n",
              "       0.        , 0.        , 0.        , 0.        , 0.        ,\n",
              "       0.        , 0.        , 0.        , 0.        , 0.        ,\n",
              "       0.        , 0.        , 0.        , 0.        , 0.        ,\n",
              "       0.        , 0.        , 0.        , 0.        , 0.        ,\n",
              "       0.        , 0.        , 0.        , 0.        , 0.        ,\n",
              "       0.        , 0.        , 0.        , 0.        , 0.        ,\n",
              "       0.        , 0.        , 0.        , 0.        , 0.        ,\n",
              "       0.        , 0.        , 0.        , 0.        , 0.        ,\n",
              "       0.        , 0.        , 0.        , 0.        , 0.        ,\n",
              "       0.        , 0.        , 0.        , 0.        , 0.        ,\n",
              "       0.        , 0.        , 0.        , 0.        , 0.        ,\n",
              "       0.        , 0.        , 0.        , 0.        , 0.        ,\n",
              "       0.        , 0.        , 0.        , 0.        , 0.        ,\n",
              "       0.        , 0.        , 0.        , 0.        , 0.        ,\n",
              "       0.        , 0.        , 0.        , 0.        , 0.        ,\n",
              "       0.        , 0.        , 0.        , 0.        , 0.        ,\n",
              "       0.        , 0.        , 0.        , 0.        , 0.        ,\n",
              "       0.        , 0.        , 0.        , 0.        , 0.        ,\n",
              "       0.        , 0.        , 0.        , 0.        , 0.        ,\n",
              "       0.        , 0.        , 0.        , 0.        , 0.        ,\n",
              "       0.        , 0.        , 0.        , 0.        , 0.        ,\n",
              "       0.        , 0.        , 0.        , 0.        , 0.        ,\n",
              "       0.        , 0.        , 0.        , 0.        , 0.        ,\n",
              "       0.        , 0.        , 0.        , 0.        , 0.        ,\n",
              "       0.        , 0.        , 0.        , 0.        , 0.        ,\n",
              "       0.        , 0.        , 0.        , 0.        , 0.        ,\n",
              "       0.        , 0.        , 0.        , 0.        , 0.        ,\n",
              "       0.        , 0.        , 0.        , 0.        , 0.        ,\n",
              "       0.        , 0.        , 0.        , 0.        , 0.        ,\n",
              "       0.        , 0.        , 0.        , 0.        , 0.        ,\n",
              "       0.        , 0.        , 0.        , 0.        , 0.        ,\n",
              "       0.        , 0.        , 0.        , 0.        , 0.        ,\n",
              "       0.        , 0.        , 0.        , 0.        , 0.        ,\n",
              "       0.        , 0.        , 0.        , 0.        , 0.        ,\n",
              "       0.01176471, 0.00392157, 0.        , 0.        , 0.02745098,\n",
              "       0.        , 0.14509805, 0.        , 0.        , 0.        ,\n",
              "       0.        , 0.        , 0.        , 0.        , 0.        ,\n",
              "       0.        , 0.        , 0.        , 0.        , 0.        ,\n",
              "       0.        , 0.        , 0.00392157, 0.00784314, 0.        ,\n",
              "       0.10588235, 0.32941177, 0.04313726, 0.        , 0.        ,\n",
              "       0.        , 0.        , 0.        , 0.        , 0.46666667,\n",
              "       0.        , 0.        , 0.        , 0.        , 0.        ,\n",
              "       0.        , 0.        , 0.        , 0.        , 0.        ,\n",
              "       0.        , 0.        , 0.        , 0.        , 0.        ,\n",
              "       0.00392157, 0.        , 0.        , 0.34509805, 0.56078434,\n",
              "       0.43137255, 0.        , 0.        , 0.        , 0.        ,\n",
              "       0.08627451, 0.3647059 , 0.41568628, 0.        , 0.        ,\n",
              "       0.        , 0.        , 0.        , 0.        , 0.        ,\n",
              "       0.        , 0.        , 0.        , 0.        , 0.        ,\n",
              "       0.        , 0.        , 0.        , 0.01568628, 0.        ,\n",
              "       0.20784314, 0.5058824 , 0.47058824, 0.5764706 , 0.6862745 ,\n",
              "       0.6156863 , 0.6509804 , 0.5294118 , 0.6039216 , 0.65882355,\n",
              "       0.54901963, 0.        , 0.        , 0.        , 0.        ,\n",
              "       0.        , 0.        , 0.        , 0.        , 0.        ,\n",
              "       0.        , 0.        , 0.        , 0.        , 0.        ,\n",
              "       0.00784314, 0.        , 0.04313726, 0.5372549 , 0.50980395,\n",
              "       0.5019608 , 0.627451  , 0.6901961 , 0.62352943, 0.654902  ,\n",
              "       0.69803923, 0.58431375, 0.5921569 , 0.5647059 , 0.        ,\n",
              "       0.        , 0.        , 0.        , 0.        , 0.        ,\n",
              "       0.        , 0.        , 0.00392157, 0.        , 0.00784314,\n",
              "       0.00392157, 0.        , 0.01176471, 0.        , 0.        ,\n",
              "       0.4509804 , 0.44705883, 0.41568628, 0.5372549 , 0.65882355,\n",
              "       0.6       , 0.6117647 , 0.64705884, 0.654902  , 0.56078434,\n",
              "       0.6156863 , 0.61960787, 0.04313726, 0.        , 0.        ,\n",
              "       0.        , 0.        , 0.        , 0.00392157, 0.        ,\n",
              "       0.        , 0.        , 0.        , 0.        , 0.01176471,\n",
              "       0.        , 0.        , 0.34901962, 0.54509807, 0.3529412 ,\n",
              "       0.36862746, 0.6       , 0.58431375, 0.5137255 , 0.5921569 ,\n",
              "       0.6627451 , 0.6745098 , 0.56078434, 0.62352943, 0.6627451 ,\n",
              "       0.1882353 , 0.        , 0.        , 0.        , 0.        ,\n",
              "       0.        , 0.        , 0.        , 0.00784314, 0.01568628,\n",
              "       0.00392157, 0.        , 0.        , 0.        , 0.38431373,\n",
              "       0.53333336, 0.43137255, 0.42745098, 0.43137255, 0.63529414,\n",
              "       0.5294118 , 0.5647059 , 0.58431375, 0.62352943, 0.654902  ,\n",
              "       0.5647059 , 0.61960787, 0.6627451 , 0.46666667, 0.        ,\n",
              "       0.        , 0.        , 0.00784314, 0.00784314, 0.00392157,\n",
              "       0.00784314, 0.        , 0.        , 0.        , 0.        ,\n",
              "       0.10196079, 0.42352942, 0.45882353, 0.3882353 , 0.43529412,\n",
              "       0.45882353, 0.53333336, 0.6117647 , 0.5254902 , 0.6039216 ,\n",
              "       0.6039216 , 0.6117647 , 0.627451  , 0.5529412 , 0.5764706 ,\n",
              "       0.6117647 , 0.69803923, 0.        , 0.01176471, 0.        ,\n",
              "       0.        , 0.        , 0.        , 0.        , 0.        ,\n",
              "       0.08235294, 0.20784314, 0.36078432, 0.45882353, 0.43529412,\n",
              "       0.40392157, 0.4509804 , 0.5058824 , 0.5254902 , 0.56078434,\n",
              "       0.6039216 , 0.64705884, 0.6666667 , 0.6039216 , 0.5921569 ,\n",
              "       0.6039216 , 0.56078434, 0.5411765 , 0.5882353 , 0.64705884,\n",
              "       0.16862746, 0.        , 0.        , 0.09019608, 0.21176471,\n",
              "       0.25490198, 0.29803923, 0.33333334, 0.4627451 , 0.5019608 ,\n",
              "       0.48235294, 0.43529412, 0.44313726, 0.4627451 , 0.49803922,\n",
              "       0.49019608, 0.54509807, 0.52156866, 0.53333336, 0.627451  ,\n",
              "       0.54901963, 0.60784316, 0.6313726 , 0.5647059 , 0.60784316,\n",
              "       0.6745098 , 0.6313726 , 0.7411765 , 0.24313726, 0.        ,\n",
              "       0.26666668, 0.36862746, 0.3529412 , 0.43529412, 0.44705883,\n",
              "       0.43529412, 0.44705883, 0.4509804 , 0.49803922, 0.5294118 ,\n",
              "       0.53333336, 0.56078434, 0.49411765, 0.49803922, 0.5921569 ,\n",
              "       0.6039216 , 0.56078434, 0.5803922 , 0.49019608, 0.63529414,\n",
              "       0.63529414, 0.5647059 , 0.5411765 , 0.6       , 0.63529414,\n",
              "       0.76862746, 0.22745098, 0.27450982, 0.6627451 , 0.5058824 ,\n",
              "       0.40784314, 0.38431373, 0.39215687, 0.36862746, 0.38039216,\n",
              "       0.38431373, 0.4       , 0.42352942, 0.41568628, 0.46666667,\n",
              "       0.47058824, 0.5058824 , 0.58431375, 0.6117647 , 0.654902  ,\n",
              "       0.74509805, 0.74509805, 0.76862746, 0.7764706 , 0.7764706 ,\n",
              "       0.73333335, 0.77254903, 0.7411765 , 0.72156864, 0.14117648,\n",
              "       0.0627451 , 0.49411765, 0.67058825, 0.7372549 , 0.7372549 ,\n",
              "       0.72156864, 0.67058825, 0.6       , 0.5294118 , 0.47058824,\n",
              "       0.49411765, 0.49803922, 0.57254905, 0.7254902 , 0.7647059 ,\n",
              "       0.81960785, 0.8156863 , 1.        , 0.81960785, 0.69411767,\n",
              "       0.9607843 , 0.9882353 , 0.9843137 , 0.9843137 , 0.96862745,\n",
              "       0.8627451 , 0.80784315, 0.19215687, 0.        , 0.        ,\n",
              "       0.        , 0.04705882, 0.2627451 , 0.41568628, 0.6431373 ,\n",
              "       0.7254902 , 0.78039217, 0.8235294 , 0.827451  , 0.8235294 ,\n",
              "       0.8156863 , 0.74509805, 0.5882353 , 0.32156864, 0.03137255,\n",
              "       0.        , 0.        , 0.        , 0.69803923, 0.8156863 ,\n",
              "       0.7372549 , 0.6862745 , 0.63529414, 0.61960787, 0.5921569 ,\n",
              "       0.04313726, 0.        , 0.        , 0.        , 0.        ,\n",
              "       0.        , 0.        , 0.        , 0.        , 0.        ,\n",
              "       0.        , 0.        , 0.        , 0.        , 0.        ,\n",
              "       0.        , 0.        , 0.        , 0.        , 0.        ,\n",
              "       0.        , 0.        , 0.        , 0.        , 0.        ,\n",
              "       0.        , 0.        , 0.        , 0.        , 0.        ,\n",
              "       0.        , 0.        , 0.        , 0.        , 0.        ,\n",
              "       0.        , 0.        , 0.        , 0.        , 0.        ,\n",
              "       0.        , 0.        , 0.        , 0.        , 0.        ,\n",
              "       0.        , 0.        , 0.        , 0.        , 0.        ,\n",
              "       0.        , 0.        , 0.        , 0.        , 0.        ,\n",
              "       0.        , 0.        , 0.        , 0.        , 0.        ,\n",
              "       0.        , 0.        , 0.        , 0.        , 0.        ,\n",
              "       0.        , 0.        , 0.        , 0.        , 0.        ,\n",
              "       0.        , 0.        , 0.        , 0.        , 0.        ,\n",
              "       0.        , 0.        , 0.        , 0.        , 0.        ,\n",
              "       0.        , 0.        , 0.        , 0.        , 0.        ,\n",
              "       0.        , 0.        , 0.        , 0.        , 0.        ,\n",
              "       0.        , 0.        , 0.        , 0.        , 0.        ,\n",
              "       0.        , 0.        , 0.        , 0.        , 0.        ,\n",
              "       0.        , 0.        , 0.        , 0.        , 0.        ,\n",
              "       0.        , 0.        , 0.        , 0.        , 0.        ,\n",
              "       0.        , 0.        , 0.        , 0.        , 0.        ,\n",
              "       0.        , 0.        , 0.        , 0.        , 0.        ,\n",
              "       0.        , 0.        , 0.        , 0.        , 0.        ,\n",
              "       0.        , 0.        , 0.        , 0.        , 0.        ,\n",
              "       0.        , 0.        , 0.        , 0.        , 0.        ,\n",
              "       0.        , 0.        , 0.        , 0.        , 0.        ,\n",
              "       0.        , 0.        , 0.        , 0.        , 0.        ,\n",
              "       0.        , 0.        , 0.        , 0.        , 0.        ,\n",
              "       0.        , 0.        , 0.        , 0.        , 0.        ,\n",
              "       0.        , 0.        , 0.        , 0.        , 0.        ,\n",
              "       0.        , 0.        , 0.        , 0.        , 0.        ,\n",
              "       0.        , 0.        , 0.        , 0.        ], dtype=float32)"
            ]
          },
          "metadata": {},
          "execution_count": 97
        }
      ],
      "source": [
        "test_X[0]"
      ]
    },
    {
      "cell_type": "code",
      "source": [
        "test_Y[0]"
      ],
      "metadata": {
        "id": "J0xo8-8G5f8-",
        "outputId": "c200bc73-2263-4aab-e8d0-cf848f2e06d5",
        "colab": {
          "base_uri": "https://localhost:8080/"
        }
      },
      "execution_count": null,
      "outputs": [
        {
          "output_type": "execute_result",
          "data": {
            "text/plain": [
              "array([0., 0., 0., 0., 0., 0., 0., 0., 0., 1.])"
            ]
          },
          "metadata": {},
          "execution_count": 98
        }
      ]
    },
    {
      "cell_type": "markdown",
      "source": [
        "Crear un modelo conciente"
      ],
      "metadata": {
        "id": "aGIt1skrDwJ1"
      }
    },
    {
      "cell_type": "code",
      "source": [
        "input_shape  = (train_X[0].shape)\n",
        "input_shape"
      ],
      "metadata": {
        "id": "e3OS8GctDuQo",
        "outputId": "c905a72b-8c27-4e85-e2ae-96e0e7d57f6b",
        "colab": {
          "base_uri": "https://localhost:8080/"
        }
      },
      "execution_count": null,
      "outputs": [
        {
          "output_type": "execute_result",
          "data": {
            "text/plain": [
              "(784,)"
            ]
          },
          "metadata": {},
          "execution_count": 99
        }
      ]
    },
    {
      "cell_type": "code",
      "source": [
        "model = keras.Sequential([\n",
        "    keras.Input(shape=input_shape),\n",
        "    layers.Dense(100, activation='relu'),\n",
        "    layers.Dense(num_classes, activation='softmax')\n",
        "])"
      ],
      "metadata": {
        "id": "k_FTi_6oDyNa"
      },
      "execution_count": null,
      "outputs": []
    },
    {
      "cell_type": "code",
      "source": [
        "model.summary()"
      ],
      "metadata": {
        "colab": {
          "base_uri": "https://localhost:8080/",
          "height": 204
        },
        "id": "i0Wh6ZwdOIzU",
        "outputId": "4e3aa46f-cd73-4439-eb8a-c4e843ea4b45"
      },
      "execution_count": null,
      "outputs": [
        {
          "output_type": "display_data",
          "data": {
            "text/plain": [
              "\u001b[1mModel: \"sequential_4\"\u001b[0m\n"
            ],
            "text/html": [
              "<pre style=\"white-space:pre;overflow-x:auto;line-height:normal;font-family:Menlo,'DejaVu Sans Mono',consolas,'Courier New',monospace\"><span style=\"font-weight: bold\">Model: \"sequential_4\"</span>\n",
              "</pre>\n"
            ]
          },
          "metadata": {}
        },
        {
          "output_type": "display_data",
          "data": {
            "text/plain": [
              "┏━━━━━━━━━━━━━━━━━━━━━━━━━━━━━━━━━━━━━━┳━━━━━━━━━━━━━━━━━━━━━━━━━━━━━┳━━━━━━━━━━━━━━━━━┓\n",
              "┃\u001b[1m \u001b[0m\u001b[1mLayer (type)                        \u001b[0m\u001b[1m \u001b[0m┃\u001b[1m \u001b[0m\u001b[1mOutput Shape               \u001b[0m\u001b[1m \u001b[0m┃\u001b[1m \u001b[0m\u001b[1m        Param #\u001b[0m\u001b[1m \u001b[0m┃\n",
              "┡━━━━━━━━━━━━━━━━━━━━━━━━━━━━━━━━━━━━━━╇━━━━━━━━━━━━━━━━━━━━━━━━━━━━━╇━━━━━━━━━━━━━━━━━┩\n",
              "│ dense_8 (\u001b[38;5;33mDense\u001b[0m)                      │ (\u001b[38;5;45mNone\u001b[0m, \u001b[38;5;34m100\u001b[0m)                 │          \u001b[38;5;34m78,500\u001b[0m │\n",
              "├──────────────────────────────────────┼─────────────────────────────┼─────────────────┤\n",
              "│ dense_9 (\u001b[38;5;33mDense\u001b[0m)                      │ (\u001b[38;5;45mNone\u001b[0m, \u001b[38;5;34m10\u001b[0m)                  │           \u001b[38;5;34m1,010\u001b[0m │\n",
              "└──────────────────────────────────────┴─────────────────────────────┴─────────────────┘\n"
            ],
            "text/html": [
              "<pre style=\"white-space:pre;overflow-x:auto;line-height:normal;font-family:Menlo,'DejaVu Sans Mono',consolas,'Courier New',monospace\">┏━━━━━━━━━━━━━━━━━━━━━━━━━━━━━━━━━━━━━━┳━━━━━━━━━━━━━━━━━━━━━━━━━━━━━┳━━━━━━━━━━━━━━━━━┓\n",
              "┃<span style=\"font-weight: bold\"> Layer (type)                         </span>┃<span style=\"font-weight: bold\"> Output Shape                </span>┃<span style=\"font-weight: bold\">         Param # </span>┃\n",
              "┡━━━━━━━━━━━━━━━━━━━━━━━━━━━━━━━━━━━━━━╇━━━━━━━━━━━━━━━━━━━━━━━━━━━━━╇━━━━━━━━━━━━━━━━━┩\n",
              "│ dense_8 (<span style=\"color: #0087ff; text-decoration-color: #0087ff\">Dense</span>)                      │ (<span style=\"color: #00d7ff; text-decoration-color: #00d7ff\">None</span>, <span style=\"color: #00af00; text-decoration-color: #00af00\">100</span>)                 │          <span style=\"color: #00af00; text-decoration-color: #00af00\">78,500</span> │\n",
              "├──────────────────────────────────────┼─────────────────────────────┼─────────────────┤\n",
              "│ dense_9 (<span style=\"color: #0087ff; text-decoration-color: #0087ff\">Dense</span>)                      │ (<span style=\"color: #00d7ff; text-decoration-color: #00d7ff\">None</span>, <span style=\"color: #00af00; text-decoration-color: #00af00\">10</span>)                  │           <span style=\"color: #00af00; text-decoration-color: #00af00\">1,010</span> │\n",
              "└──────────────────────────────────────┴─────────────────────────────┴─────────────────┘\n",
              "</pre>\n"
            ]
          },
          "metadata": {}
        },
        {
          "output_type": "display_data",
          "data": {
            "text/plain": [
              "\u001b[1m Total params: \u001b[0m\u001b[38;5;34m79,510\u001b[0m (310.59 KB)\n"
            ],
            "text/html": [
              "<pre style=\"white-space:pre;overflow-x:auto;line-height:normal;font-family:Menlo,'DejaVu Sans Mono',consolas,'Courier New',monospace\"><span style=\"font-weight: bold\"> Total params: </span><span style=\"color: #00af00; text-decoration-color: #00af00\">79,510</span> (310.59 KB)\n",
              "</pre>\n"
            ]
          },
          "metadata": {}
        },
        {
          "output_type": "display_data",
          "data": {
            "text/plain": [
              "\u001b[1m Trainable params: \u001b[0m\u001b[38;5;34m79,510\u001b[0m (310.59 KB)\n"
            ],
            "text/html": [
              "<pre style=\"white-space:pre;overflow-x:auto;line-height:normal;font-family:Menlo,'DejaVu Sans Mono',consolas,'Courier New',monospace\"><span style=\"font-weight: bold\"> Trainable params: </span><span style=\"color: #00af00; text-decoration-color: #00af00\">79,510</span> (310.59 KB)\n",
              "</pre>\n"
            ]
          },
          "metadata": {}
        },
        {
          "output_type": "display_data",
          "data": {
            "text/plain": [
              "\u001b[1m Non-trainable params: \u001b[0m\u001b[38;5;34m0\u001b[0m (0.00 B)\n"
            ],
            "text/html": [
              "<pre style=\"white-space:pre;overflow-x:auto;line-height:normal;font-family:Menlo,'DejaVu Sans Mono',consolas,'Courier New',monospace\"><span style=\"font-weight: bold\"> Non-trainable params: </span><span style=\"color: #00af00; text-decoration-color: #00af00\">0</span> (0.00 B)\n",
              "</pre>\n"
            ]
          },
          "metadata": {}
        }
      ]
    },
    {
      "cell_type": "code",
      "source": [
        "model.compile(loss=\"categorical_crossentropy\", optimizer=\"adam\", metrics=[\"accuracy\"])"
      ],
      "metadata": {
        "id": "Fnw6zUzfOSlN"
      },
      "execution_count": null,
      "outputs": []
    },
    {
      "cell_type": "code",
      "source": [
        "train_Y"
      ],
      "metadata": {
        "colab": {
          "base_uri": "https://localhost:8080/"
        },
        "id": "7wmQyLJ2Ooz5",
        "outputId": "f860a257-eac6-4e14-8e7d-922e392af52c"
      },
      "execution_count": null,
      "outputs": [
        {
          "output_type": "execute_result",
          "data": {
            "text/plain": [
              "array([[0., 0., 0., ..., 0., 0., 1.],\n",
              "       [1., 0., 0., ..., 0., 0., 0.],\n",
              "       [1., 0., 0., ..., 0., 0., 0.],\n",
              "       ...,\n",
              "       [0., 0., 0., ..., 0., 0., 0.],\n",
              "       [1., 0., 0., ..., 0., 0., 0.],\n",
              "       [0., 0., 0., ..., 0., 0., 0.]])"
            ]
          },
          "metadata": {},
          "execution_count": 111
        }
      ]
    },
    {
      "cell_type": "code",
      "source": [
        "print(train_Y.shape)"
      ],
      "metadata": {
        "colab": {
          "base_uri": "https://localhost:8080/"
        },
        "id": "VCHyeTVRP6t1",
        "outputId": "ffef6255-8e9c-4c76-d96e-ba9217fefcb3"
      },
      "execution_count": null,
      "outputs": [
        {
          "output_type": "stream",
          "name": "stdout",
          "text": [
            "(60000, 10)\n"
          ]
        }
      ]
    },
    {
      "cell_type": "code",
      "source": [
        "print(train_X.shape)  # Debe tener (60000, altura, ancho, canales) en imágenes\n",
        "print(train_Y.shape)  # Debe ser (60000, 10) si es one-hot encoding\n"
      ],
      "metadata": {
        "colab": {
          "base_uri": "https://localhost:8080/"
        },
        "id": "Ax42xaNwSxiT",
        "outputId": "2062fe2c-bbc5-469d-da88-5bac78f81fdf"
      },
      "execution_count": null,
      "outputs": [
        {
          "output_type": "stream",
          "name": "stdout",
          "text": [
            "(60000, 784)\n",
            "(60000, 10)\n"
          ]
        }
      ]
    },
    {
      "cell_type": "code",
      "source": [
        "print(np.isnan(train_X).sum())  # Debe ser 0\n",
        "print(np.isnan(train_Y).sum())  # Debe ser 0"
      ],
      "metadata": {
        "colab": {
          "base_uri": "https://localhost:8080/"
        },
        "id": "snO-6yfwSEL5",
        "outputId": "d349f8a4-789c-4e7b-9193-71180ef298e8"
      },
      "execution_count": null,
      "outputs": [
        {
          "output_type": "stream",
          "name": "stdout",
          "text": [
            "0\n",
            "0\n"
          ]
        }
      ]
    },
    {
      "cell_type": "code",
      "source": [
        "print(train_X.dtype)  # Tipo de datos de train_X\n",
        "print(train_Y.dtype)  # Tipo de datos de train_Y"
      ],
      "metadata": {
        "colab": {
          "base_uri": "https://localhost:8080/"
        },
        "id": "TH1D-855Tl2P",
        "outputId": "51e0f766-0095-40d5-8d4d-3318d5999861"
      },
      "execution_count": null,
      "outputs": [
        {
          "output_type": "stream",
          "name": "stdout",
          "text": [
            "float32\n",
            "float64\n"
          ]
        }
      ]
    },
    {
      "cell_type": "code",
      "source": [
        "batch_size = 128\n",
        "epochs = 20\n",
        "history = model.fit(train_X, train_Y, batch_size=batch_size,\n",
        "                    epochs=epochs, validation_split=0.1)"
      ],
      "metadata": {
        "colab": {
          "base_uri": "https://localhost:8080/"
        },
        "id": "SnXvBT5ZUBVL",
        "outputId": "e8f4e7dd-d25d-48fa-e01b-8ea267f53e55"
      },
      "execution_count": null,
      "outputs": [
        {
          "output_type": "stream",
          "name": "stdout",
          "text": [
            "Epoch 1/20\n",
            "\u001b[1m422/422\u001b[0m \u001b[32m━━━━━━━━━━━━━━━━━━━━\u001b[0m\u001b[37m\u001b[0m \u001b[1m2s\u001b[0m 4ms/step - accuracy: 0.7336 - loss: 0.7848 - val_accuracy: 0.8397 - val_loss: 0.4560\n",
            "Epoch 2/20\n",
            "\u001b[1m422/422\u001b[0m \u001b[32m━━━━━━━━━━━━━━━━━━━━\u001b[0m\u001b[37m\u001b[0m \u001b[1m2s\u001b[0m 3ms/step - accuracy: 0.8499 - loss: 0.4317 - val_accuracy: 0.8503 - val_loss: 0.4136\n",
            "Epoch 3/20\n",
            "\u001b[1m422/422\u001b[0m \u001b[32m━━━━━━━━━━━━━━━━━━━━\u001b[0m\u001b[37m\u001b[0m \u001b[1m2s\u001b[0m 5ms/step - accuracy: 0.8640 - loss: 0.3852 - val_accuracy: 0.8577 - val_loss: 0.3929\n",
            "Epoch 4/20\n",
            "\u001b[1m422/422\u001b[0m \u001b[32m━━━━━━━━━━━━━━━━━━━━\u001b[0m\u001b[37m\u001b[0m \u001b[1m1s\u001b[0m 3ms/step - accuracy: 0.8736 - loss: 0.3532 - val_accuracy: 0.8700 - val_loss: 0.3540\n",
            "Epoch 5/20\n",
            "\u001b[1m422/422\u001b[0m \u001b[32m━━━━━━━━━━━━━━━━━━━━\u001b[0m\u001b[37m\u001b[0m \u001b[1m1s\u001b[0m 3ms/step - accuracy: 0.8820 - loss: 0.3345 - val_accuracy: 0.8767 - val_loss: 0.3478\n",
            "Epoch 6/20\n",
            "\u001b[1m422/422\u001b[0m \u001b[32m━━━━━━━━━━━━━━━━━━━━\u001b[0m\u001b[37m\u001b[0m \u001b[1m2s\u001b[0m 3ms/step - accuracy: 0.8822 - loss: 0.3244 - val_accuracy: 0.8712 - val_loss: 0.3531\n",
            "Epoch 7/20\n",
            "\u001b[1m422/422\u001b[0m \u001b[32m━━━━━━━━━━━━━━━━━━━━\u001b[0m\u001b[37m\u001b[0m \u001b[1m1s\u001b[0m 3ms/step - accuracy: 0.8884 - loss: 0.3020 - val_accuracy: 0.8772 - val_loss: 0.3421\n",
            "Epoch 8/20\n",
            "\u001b[1m422/422\u001b[0m \u001b[32m━━━━━━━━━━━━━━━━━━━━\u001b[0m\u001b[37m\u001b[0m \u001b[1m1s\u001b[0m 3ms/step - accuracy: 0.8937 - loss: 0.2936 - val_accuracy: 0.8807 - val_loss: 0.3333\n",
            "Epoch 9/20\n",
            "\u001b[1m422/422\u001b[0m \u001b[32m━━━━━━━━━━━━━━━━━━━━\u001b[0m\u001b[37m\u001b[0m \u001b[1m3s\u001b[0m 4ms/step - accuracy: 0.8981 - loss: 0.2796 - val_accuracy: 0.8837 - val_loss: 0.3177\n",
            "Epoch 10/20\n",
            "\u001b[1m422/422\u001b[0m \u001b[32m━━━━━━━━━━━━━━━━━━━━\u001b[0m\u001b[37m\u001b[0m \u001b[1m2s\u001b[0m 3ms/step - accuracy: 0.9009 - loss: 0.2729 - val_accuracy: 0.8842 - val_loss: 0.3233\n",
            "Epoch 11/20\n",
            "\u001b[1m422/422\u001b[0m \u001b[32m━━━━━━━━━━━━━━━━━━━━\u001b[0m\u001b[37m\u001b[0m \u001b[1m1s\u001b[0m 3ms/step - accuracy: 0.9055 - loss: 0.2611 - val_accuracy: 0.8760 - val_loss: 0.3333\n",
            "Epoch 12/20\n",
            "\u001b[1m422/422\u001b[0m \u001b[32m━━━━━━━━━━━━━━━━━━━━\u001b[0m\u001b[37m\u001b[0m \u001b[1m1s\u001b[0m 3ms/step - accuracy: 0.9076 - loss: 0.2563 - val_accuracy: 0.8718 - val_loss: 0.3481\n",
            "Epoch 13/20\n",
            "\u001b[1m422/422\u001b[0m \u001b[32m━━━━━━━━━━━━━━━━━━━━\u001b[0m\u001b[37m\u001b[0m \u001b[1m1s\u001b[0m 3ms/step - accuracy: 0.9094 - loss: 0.2480 - val_accuracy: 0.8835 - val_loss: 0.3278\n",
            "Epoch 14/20\n",
            "\u001b[1m422/422\u001b[0m \u001b[32m━━━━━━━━━━━━━━━━━━━━\u001b[0m\u001b[37m\u001b[0m \u001b[1m1s\u001b[0m 3ms/step - accuracy: 0.9140 - loss: 0.2408 - val_accuracy: 0.8870 - val_loss: 0.3151\n",
            "Epoch 15/20\n",
            "\u001b[1m422/422\u001b[0m \u001b[32m━━━━━━━━━━━━━━━━━━━━\u001b[0m\u001b[37m\u001b[0m \u001b[1m2s\u001b[0m 3ms/step - accuracy: 0.9163 - loss: 0.2295 - val_accuracy: 0.8837 - val_loss: 0.3237\n",
            "Epoch 16/20\n",
            "\u001b[1m422/422\u001b[0m \u001b[32m━━━━━━━━━━━━━━━━━━━━\u001b[0m\u001b[37m\u001b[0m \u001b[1m2s\u001b[0m 5ms/step - accuracy: 0.9170 - loss: 0.2299 - val_accuracy: 0.8810 - val_loss: 0.3308\n",
            "Epoch 17/20\n",
            "\u001b[1m422/422\u001b[0m \u001b[32m━━━━━━━━━━━━━━━━━━━━\u001b[0m\u001b[37m\u001b[0m \u001b[1m1s\u001b[0m 3ms/step - accuracy: 0.9168 - loss: 0.2275 - val_accuracy: 0.8882 - val_loss: 0.3213\n",
            "Epoch 18/20\n",
            "\u001b[1m422/422\u001b[0m \u001b[32m━━━━━━━━━━━━━━━━━━━━\u001b[0m\u001b[37m\u001b[0m \u001b[1m1s\u001b[0m 3ms/step - accuracy: 0.9173 - loss: 0.2241 - val_accuracy: 0.8897 - val_loss: 0.3167\n",
            "Epoch 19/20\n",
            "\u001b[1m422/422\u001b[0m \u001b[32m━━━━━━━━━━━━━━━━━━━━\u001b[0m\u001b[37m\u001b[0m \u001b[1m2s\u001b[0m 3ms/step - accuracy: 0.9215 - loss: 0.2182 - val_accuracy: 0.8898 - val_loss: 0.3088\n",
            "Epoch 20/20\n",
            "\u001b[1m422/422\u001b[0m \u001b[32m━━━━━━━━━━━━━━━━━━━━\u001b[0m\u001b[37m\u001b[0m \u001b[1m1s\u001b[0m 3ms/step - accuracy: 0.9244 - loss: 0.2066 - val_accuracy: 0.8880 - val_loss: 0.3229\n"
          ]
        }
      ]
    },
    {
      "cell_type": "code",
      "source": [
        "plt.plot(history.history['loss'], label=\"loss\")\n",
        "plt.plot(history.history['val_loss'], label=\"val_loss\")\n",
        "plt.legend()"
      ],
      "metadata": {
        "colab": {
          "base_uri": "https://localhost:8080/",
          "height": 447
        },
        "id": "JytcZn2_UK6L",
        "outputId": "0c1635b4-c009-4d35-f240-bf16a95ddbfc"
      },
      "execution_count": null,
      "outputs": [
        {
          "output_type": "execute_result",
          "data": {
            "text/plain": [
              "<matplotlib.legend.Legend at 0x7dfb3e72e890>"
            ]
          },
          "metadata": {},
          "execution_count": 117
        },
        {
          "output_type": "display_data",
          "data": {
            "text/plain": [
              "<Figure size 640x480 with 1 Axes>"
            ],
            "image/png": "[encoded data removed]"
          },
          "metadata": {}
        }
      ]
    },
    {
      "cell_type": "code",
      "source": [
        "history.history"
      ],
      "metadata": {
        "colab": {
          "base_uri": "https://localhost:8080/"
        },
        "id": "hA-lkM3aVAn4",
        "outputId": "a6de87eb-c161-4437-b87c-88a48edd6c94"
      },
      "execution_count": null,
      "outputs": [
        {
          "output_type": "execute_result",
          "data": {
            "text/plain": [
              "{'accuracy': [0.8004814982414246,\n",
              "  0.8525925874710083,\n",
              "  0.865851879119873,\n",
              "  0.8733888864517212,\n",
              "  0.8820555806159973,\n",
              "  0.8830740451812744,\n",
              "  0.8890740871429443,\n",
              "  0.8922777771949768,\n",
              "  0.8969814777374268,\n",
              "  0.9007777571678162,\n",
              "  0.9030185341835022,\n",
              "  0.9057962894439697,\n",
              "  0.9080740809440613,\n",
              "  0.912407398223877,\n",
              "  0.9135370254516602,\n",
              "  0.9159444570541382,\n",
              "  0.9155185222625732,\n",
              "  0.918759286403656,\n",
              "  0.9209629893302917,\n",
              "  0.9229444265365601],\n",
              " 'loss': [0.5810889005661011,\n",
              "  0.4234124720096588,\n",
              "  0.38372352719306946,\n",
              "  0.3543660640716553,\n",
              "  0.3334403336048126,\n",
              "  0.3228743374347687,\n",
              "  0.30455487966537476,\n",
              "  0.2970397174358368,\n",
              "  0.28352445363998413,\n",
              "  0.2736203074455261,\n",
              "  0.2654646337032318,\n",
              "  0.2582402229309082,\n",
              "  0.2506208121776581,\n",
              "  0.2421756535768509,\n",
              "  0.236537367105484,\n",
              "  0.2302675098180771,\n",
              "  0.22913384437561035,\n",
              "  0.22179463505744934,\n",
              "  0.21702711284160614,\n",
              "  0.21037279069423676],\n",
              " 'val_accuracy': [0.8396666646003723,\n",
              "  0.8503333330154419,\n",
              "  0.8576666712760925,\n",
              "  0.8700000047683716,\n",
              "  0.8766666650772095,\n",
              "  0.8711666464805603,\n",
              "  0.8771666884422302,\n",
              "  0.8806666731834412,\n",
              "  0.8836666941642761,\n",
              "  0.8841666579246521,\n",
              "  0.8759999871253967,\n",
              "  0.871833324432373,\n",
              "  0.8834999799728394,\n",
              "  0.8870000243186951,\n",
              "  0.8836666941642761,\n",
              "  0.8809999823570251,\n",
              "  0.8881666660308838,\n",
              "  0.8896666765213013,\n",
              "  0.8898333311080933,\n",
              "  0.8880000114440918],\n",
              " 'val_loss': [0.4560214877128601,\n",
              "  0.41359663009643555,\n",
              "  0.3929460346698761,\n",
              "  0.3540404438972473,\n",
              "  0.3477530777454376,\n",
              "  0.3531440794467926,\n",
              "  0.3420984148979187,\n",
              "  0.33329614996910095,\n",
              "  0.3177368640899658,\n",
              "  0.3233066499233246,\n",
              "  0.33329343795776367,\n",
              "  0.3480760455131531,\n",
              "  0.3277624547481537,\n",
              "  0.3150956332683563,\n",
              "  0.3236701488494873,\n",
              "  0.3308238685131073,\n",
              "  0.32129162549972534,\n",
              "  0.31671181321144104,\n",
              "  0.3087916970252991,\n",
              "  0.32287898659706116]}"
            ]
          },
          "metadata": {},
          "execution_count": 118
        }
      ]
    },
    {
      "cell_type": "code",
      "source": [
        "plt.plot(history.history['accuracy'], label=\"loss\")\n",
        "plt.plot(history.history['val_accuracy'], label=\"val_loss\")\n",
        "plt.legend()"
      ],
      "metadata": {
        "colab": {
          "base_uri": "https://localhost:8080/",
          "height": 447
        },
        "id": "is9adfeHVDPF",
        "outputId": "9d390618-c0f9-415f-f777-a3af76444dbc"
      },
      "execution_count": null,
      "outputs": [
        {
          "output_type": "execute_result",
          "data": {
            "text/plain": [
              "<matplotlib.legend.Legend at 0x7dfb1e8be950>"
            ]
          },
          "metadata": {},
          "execution_count": 119
        },
        {
          "output_type": "display_data",
          "data": {
            "text/plain": [
              "<Figure size 640x480 with 1 Axes>"
            ],
            "image/png": "[encoded data removed]"
          },
          "metadata": {}
        }
      ]
    },
    {
      "cell_type": "code",
      "source": [
        "history = model.fit(train_X, train_Y, batch_size=batch_size,\n",
        "                    epochs=10, validation_split=0.1)"
      ],
      "metadata": {
        "colab": {
          "base_uri": "https://localhost:8080/"
        },
        "id": "UYYFpezyVF_y",
        "outputId": "3b51f9b0-1738-4a51-bc25-c60a9d8a1dcf"
      },
      "execution_count": null,
      "outputs": [
        {
          "output_type": "stream",
          "name": "stdout",
          "text": [
            "Epoch 1/10\n",
            "\u001b[1m422/422\u001b[0m \u001b[32m━━━━━━━━━━━━━━━━━━━━\u001b[0m\u001b[37m\u001b[0m \u001b[1m2s\u001b[0m 4ms/step - accuracy: 0.9238 - loss: 0.2091 - val_accuracy: 0.8902 - val_loss: 0.3278\n",
            "Epoch 2/10\n",
            "\u001b[1m422/422\u001b[0m \u001b[32m━━━━━━━━━━━━━━━━━━━━\u001b[0m\u001b[37m\u001b[0m \u001b[1m2s\u001b[0m 3ms/step - accuracy: 0.9272 - loss: 0.1982 - val_accuracy: 0.8843 - val_loss: 0.3363\n",
            "Epoch 3/10\n",
            "\u001b[1m422/422\u001b[0m \u001b[32m━━━━━━━━━━━━━━━━━━━━\u001b[0m\u001b[37m\u001b[0m \u001b[1m1s\u001b[0m 3ms/step - accuracy: 0.9267 - loss: 0.1986 - val_accuracy: 0.8853 - val_loss: 0.3425\n",
            "Epoch 4/10\n",
            "\u001b[1m422/422\u001b[0m \u001b[32m━━━━━━━━━━━━━━━━━━━━\u001b[0m\u001b[37m\u001b[0m \u001b[1m1s\u001b[0m 3ms/step - accuracy: 0.9293 - loss: 0.1914 - val_accuracy: 0.8908 - val_loss: 0.3183\n",
            "Epoch 5/10\n",
            "\u001b[1m422/422\u001b[0m \u001b[32m━━━━━━━━━━━━━━━━━━━━\u001b[0m\u001b[37m\u001b[0m \u001b[1m3s\u001b[0m 4ms/step - accuracy: 0.9302 - loss: 0.1873 - val_accuracy: 0.8888 - val_loss: 0.3239\n",
            "Epoch 6/10\n",
            "\u001b[1m422/422\u001b[0m \u001b[32m━━━━━━━━━━━━━━━━━━━━\u001b[0m\u001b[37m\u001b[0m \u001b[1m2s\u001b[0m 3ms/step - accuracy: 0.9308 - loss: 0.1854 - val_accuracy: 0.8928 - val_loss: 0.3151\n",
            "Epoch 7/10\n",
            "\u001b[1m422/422\u001b[0m \u001b[32m━━━━━━━━━━━━━━━━━━━━\u001b[0m\u001b[37m\u001b[0m \u001b[1m3s\u001b[0m 3ms/step - accuracy: 0.9354 - loss: 0.1764 - val_accuracy: 0.8893 - val_loss: 0.3265\n",
            "Epoch 8/10\n",
            "\u001b[1m422/422\u001b[0m \u001b[32m━━━━━━━━━━━━━━━━━━━━\u001b[0m\u001b[37m\u001b[0m \u001b[1m2s\u001b[0m 3ms/step - accuracy: 0.9345 - loss: 0.1766 - val_accuracy: 0.8820 - val_loss: 0.3517\n",
            "Epoch 9/10\n",
            "\u001b[1m422/422\u001b[0m \u001b[32m━━━━━━━━━━━━━━━━━━━━\u001b[0m\u001b[37m\u001b[0m \u001b[1m1s\u001b[0m 3ms/step - accuracy: 0.9376 - loss: 0.1706 - val_accuracy: 0.8908 - val_loss: 0.3353\n",
            "Epoch 10/10\n",
            "\u001b[1m422/422\u001b[0m \u001b[32m━━━━━━━━━━━━━━━━━━━━\u001b[0m\u001b[37m\u001b[0m \u001b[1m1s\u001b[0m 3ms/step - accuracy: 0.9378 - loss: 0.1678 - val_accuracy: 0.8958 - val_loss: 0.3315\n"
          ]
        }
      ]
    },
    {
      "cell_type": "code",
      "source": [
        "plt.plot(history.history['accuracy'], label=\"accuracy\")\n",
        "plt.plot(history.history['val_accuracy'], label=\"val_accuracy\")\n",
        "plt.legend()"
      ],
      "metadata": {
        "colab": {
          "base_uri": "https://localhost:8080/",
          "height": 452
        },
        "id": "g3ibmCljVkEN",
        "outputId": "b012a32c-8474-4faf-dc89-a506c045b214"
      },
      "execution_count": null,
      "outputs": [
        {
          "output_type": "execute_result",
          "data": {
            "text/plain": [
              "<matplotlib.legend.Legend at 0x7dfb6e7e7710>"
            ]
          },
          "metadata": {},
          "execution_count": 121
        },
        {
          "output_type": "display_data",
          "data": {
            "text/plain": [
              "<Figure size 640x480 with 1 Axes>"
            ],
            "image/png": "[encoded data removed]"
          },
          "metadata": {}
        }
      ]
    },
    {
      "cell_type": "code",
      "source": [
        "model.evaluate(test_X, test_Y)"
      ],
      "metadata": {
        "colab": {
          "base_uri": "https://localhost:8080/"
        },
        "id": "kQ3MLBgbVmfA",
        "outputId": "1ada6ba9-5b11-4bba-d59e-10ad791415e2"
      },
      "execution_count": null,
      "outputs": [
        {
          "output_type": "stream",
          "name": "stdout",
          "text": [
            "\u001b[1m313/313\u001b[0m \u001b[32m━━━━━━━━━━━━━━━━━━━━\u001b[0m\u001b[37m\u001b[0m \u001b[1m0s\u001b[0m 1ms/step - accuracy: 0.8882 - loss: 0.3496\n"
          ]
        },
        {
          "output_type": "execute_result",
          "data": {
            "text/plain": [
              "[0.3539494574069977, 0.886900007724762]"
            ]
          },
          "metadata": {},
          "execution_count": 124
        }
      ]
    },
    {
      "cell_type": "code",
      "source": [
        "model = keras.Sequential([\n",
        "    keras.Input(shape=input_shape),\n",
        "    layers.Dense(100, activation=\"relu\"),\n",
        "    layers.Dense(100, activation=\"relu\"),\n",
        "    layers.Dense(num_classes, activation=\"softmax\")\n",
        "])\n",
        "model.compile(loss=\"categorical_crossentropy\", optimizer=\"adam\", metrics=[\"accuracy\"])\n",
        "batch_size = 128\n",
        "epochs = 20\n",
        "history = model.fit(train_X, train_Y, batch_size=batch_size, epochs=epochs, validation_split=0.1)"
      ],
      "metadata": {
        "colab": {
          "base_uri": "https://localhost:8080/"
        },
        "id": "KfxGJtLtVuaH",
        "outputId": "5a754747-68f2-4d91-a3c5-d513f2086576"
      },
      "execution_count": null,
      "outputs": [
        {
          "output_type": "stream",
          "name": "stdout",
          "text": [
            "Epoch 1/20\n",
            "\u001b[1m422/422\u001b[0m \u001b[32m━━━━━━━━━━━━━━━━━━━━\u001b[0m\u001b[37m\u001b[0m \u001b[1m3s\u001b[0m 4ms/step - accuracy: 0.7350 - loss: 0.7877 - val_accuracy: 0.8490 - val_loss: 0.4101\n",
            "Epoch 2/20\n",
            "\u001b[1m422/422\u001b[0m \u001b[32m━━━━━━━━━━━━━━━━━━━━\u001b[0m\u001b[37m\u001b[0m \u001b[1m2s\u001b[0m 5ms/step - accuracy: 0.8565 - loss: 0.4052 - val_accuracy: 0.8630 - val_loss: 0.3757\n",
            "Epoch 3/20\n",
            "\u001b[1m422/422\u001b[0m \u001b[32m━━━━━━━━━━━━━━━━━━━━\u001b[0m\u001b[37m\u001b[0m \u001b[1m2s\u001b[0m 4ms/step - accuracy: 0.8709 - loss: 0.3636 - val_accuracy: 0.8692 - val_loss: 0.3605\n",
            "Epoch 4/20\n",
            "\u001b[1m422/422\u001b[0m \u001b[32m━━━━━━━━━━━━━━━━━━━━\u001b[0m\u001b[37m\u001b[0m \u001b[1m2s\u001b[0m 4ms/step - accuracy: 0.8801 - loss: 0.3301 - val_accuracy: 0.8730 - val_loss: 0.3451\n",
            "Epoch 5/20\n",
            "\u001b[1m422/422\u001b[0m \u001b[32m━━━━━━━━━━━━━━━━━━━━\u001b[0m\u001b[37m\u001b[0m \u001b[1m2s\u001b[0m 4ms/step - accuracy: 0.8877 - loss: 0.3088 - val_accuracy: 0.8793 - val_loss: 0.3351\n",
            "Epoch 6/20\n",
            "\u001b[1m422/422\u001b[0m \u001b[32m━━━━━━━━━━━━━━━━━━━━\u001b[0m\u001b[37m\u001b[0m \u001b[1m2s\u001b[0m 4ms/step - accuracy: 0.8901 - loss: 0.2939 - val_accuracy: 0.8800 - val_loss: 0.3320\n",
            "Epoch 7/20\n",
            "\u001b[1m422/422\u001b[0m \u001b[32m━━━━━━━━━━━━━━━━━━━━\u001b[0m\u001b[37m\u001b[0m \u001b[1m2s\u001b[0m 4ms/step - accuracy: 0.8974 - loss: 0.2806 - val_accuracy: 0.8723 - val_loss: 0.3469\n",
            "Epoch 8/20\n",
            "\u001b[1m422/422\u001b[0m \u001b[32m━━━━━━━━━━━━━━━━━━━━\u001b[0m\u001b[37m\u001b[0m \u001b[1m3s\u001b[0m 4ms/step - accuracy: 0.8996 - loss: 0.2724 - val_accuracy: 0.8807 - val_loss: 0.3291\n",
            "Epoch 9/20\n",
            "\u001b[1m422/422\u001b[0m \u001b[32m━━━━━━━━━━━━━━━━━━━━\u001b[0m\u001b[37m\u001b[0m \u001b[1m2s\u001b[0m 4ms/step - accuracy: 0.9036 - loss: 0.2606 - val_accuracy: 0.8873 - val_loss: 0.3147\n",
            "Epoch 10/20\n",
            "\u001b[1m422/422\u001b[0m \u001b[32m━━━━━━━━━━━━━━━━━━━━\u001b[0m\u001b[37m\u001b[0m \u001b[1m2s\u001b[0m 4ms/step - accuracy: 0.9050 - loss: 0.2521 - val_accuracy: 0.8863 - val_loss: 0.3040\n",
            "Epoch 11/20\n",
            "\u001b[1m422/422\u001b[0m \u001b[32m━━━━━━━━━━━━━━━━━━━━\u001b[0m\u001b[37m\u001b[0m \u001b[1m3s\u001b[0m 4ms/step - accuracy: 0.9089 - loss: 0.2452 - val_accuracy: 0.8833 - val_loss: 0.3334\n",
            "Epoch 12/20\n",
            "\u001b[1m422/422\u001b[0m \u001b[32m━━━━━━━━━━━━━━━━━━━━\u001b[0m\u001b[37m\u001b[0m \u001b[1m3s\u001b[0m 4ms/step - accuracy: 0.9146 - loss: 0.2302 - val_accuracy: 0.8862 - val_loss: 0.3310\n",
            "Epoch 13/20\n",
            "\u001b[1m422/422\u001b[0m \u001b[32m━━━━━━━━━━━━━━━━━━━━\u001b[0m\u001b[37m\u001b[0m \u001b[1m2s\u001b[0m 4ms/step - accuracy: 0.9164 - loss: 0.2269 - val_accuracy: 0.8895 - val_loss: 0.3117\n",
            "Epoch 14/20\n",
            "\u001b[1m422/422\u001b[0m \u001b[32m━━━━━━━━━━━━━━━━━━━━\u001b[0m\u001b[37m\u001b[0m \u001b[1m2s\u001b[0m 4ms/step - accuracy: 0.9179 - loss: 0.2194 - val_accuracy: 0.8857 - val_loss: 0.3250\n",
            "Epoch 15/20\n",
            "\u001b[1m422/422\u001b[0m \u001b[32m━━━━━━━━━━━━━━━━━━━━\u001b[0m\u001b[37m\u001b[0m \u001b[1m2s\u001b[0m 4ms/step - accuracy: 0.9211 - loss: 0.2138 - val_accuracy: 0.8888 - val_loss: 0.3170\n",
            "Epoch 16/20\n",
            "\u001b[1m422/422\u001b[0m \u001b[32m━━━━━━━━━━━━━━━━━━━━\u001b[0m\u001b[37m\u001b[0m \u001b[1m2s\u001b[0m 4ms/step - accuracy: 0.9236 - loss: 0.1999 - val_accuracy: 0.8877 - val_loss: 0.3176\n",
            "Epoch 17/20\n",
            "\u001b[1m422/422\u001b[0m \u001b[32m━━━━━━━━━━━━━━━━━━━━\u001b[0m\u001b[37m\u001b[0m \u001b[1m2s\u001b[0m 4ms/step - accuracy: 0.9280 - loss: 0.1968 - val_accuracy: 0.8948 - val_loss: 0.3145\n",
            "Epoch 18/20\n",
            "\u001b[1m422/422\u001b[0m \u001b[32m━━━━━━━━━━━━━━━━━━━━\u001b[0m\u001b[37m\u001b[0m \u001b[1m3s\u001b[0m 5ms/step - accuracy: 0.9285 - loss: 0.1923 - val_accuracy: 0.8900 - val_loss: 0.3235\n",
            "Epoch 19/20\n",
            "\u001b[1m422/422\u001b[0m \u001b[32m━━━━━━━━━━━━━━━━━━━━\u001b[0m\u001b[37m\u001b[0m \u001b[1m2s\u001b[0m 4ms/step - accuracy: 0.9291 - loss: 0.1867 - val_accuracy: 0.8903 - val_loss: 0.3226\n",
            "Epoch 20/20\n",
            "\u001b[1m422/422\u001b[0m \u001b[32m━━━━━━━━━━━━━━━━━━━━\u001b[0m\u001b[37m\u001b[0m \u001b[1m2s\u001b[0m 4ms/step - accuracy: 0.9327 - loss: 0.1835 - val_accuracy: 0.8915 - val_loss: 0.3295\n"
          ]
        }
      ]
    },
    {
      "cell_type": "code",
      "source": [
        "model.evaluate(test_X, test_Y)"
      ],
      "metadata": {
        "colab": {
          "base_uri": "https://localhost:8080/"
        },
        "id": "u6bAqd0lWWcP",
        "outputId": "9ea1e3d3-f566-424d-c5a2-77a2e9d14be9"
      },
      "execution_count": null,
      "outputs": [
        {
          "output_type": "stream",
          "name": "stdout",
          "text": [
            "\u001b[1m313/313\u001b[0m \u001b[32m━━━━━━━━━━━━━━━━━━━━\u001b[0m\u001b[37m\u001b[0m \u001b[1m0s\u001b[0m 1ms/step - accuracy: 0.8909 - loss: 0.3350\n"
          ]
        },
        {
          "output_type": "execute_result",
          "data": {
            "text/plain": [
              "[0.3366672992706299, 0.8883000016212463]"
            ]
          },
          "metadata": {},
          "execution_count": 127
        }
      ]
    }
  ],
  "metadata": {
    "colab": {
      "provenance": [],
      "toc_visible": true,
      "authorship_tag": "ABX9TyOH/rN61t3q4fuSCWxpzq5Q",
      "include_colab_link": true
    },
    "kernelspec": {
      "display_name": "Python 3",
      "name": "python3"
    },
    "language_info": {
      "name": "python"
    }
  },
  "nbformat": 4,
  "nbformat_minor": 0
}